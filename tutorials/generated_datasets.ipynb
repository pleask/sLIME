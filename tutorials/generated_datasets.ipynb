{
  "nbformat": 4,
  "nbformat_minor": 0,
  "metadata": {
    "colab": {
      "name": "sLIME for generated datasets.ipynb",
      "provenance": [],
      "authorship_tag": "ABX9TyPBU96I2RWhz8BeT9BhX9zf",
      "include_colab_link": true
    },
    "kernelspec": {
      "name": "python3",
      "display_name": "Python 3"
    },
    "language_info": {
      "name": "python"
    },
    "gpuClass": "standard",
    "accelerator": "GPU",
    "widgets": {
      "application/vnd.jupyter.widget-state+json": {
        "5c49d2948d1b49d3a7a0665a41bb71d5": {
          "model_module": "@jupyter-widgets/controls",
          "model_name": "HBoxModel",
          "model_module_version": "1.5.0",
          "state": {
            "_dom_classes": [],
            "_model_module": "@jupyter-widgets/controls",
            "_model_module_version": "1.5.0",
            "_model_name": "HBoxModel",
            "_view_count": null,
            "_view_module": "@jupyter-widgets/controls",
            "_view_module_version": "1.5.0",
            "_view_name": "HBoxView",
            "box_style": "",
            "children": [
              "IPY_MODEL_d49c90d2431a40259d8fdd7bdec57af6",
              "IPY_MODEL_96e64d5ed8114c25a4a59927a5c26539",
              "IPY_MODEL_be44451a75dc46d18f79065e852ad788"
            ],
            "layout": "IPY_MODEL_d4d738da38294b8b93c2e8c5f61a978e"
          }
        },
        "d49c90d2431a40259d8fdd7bdec57af6": {
          "model_module": "@jupyter-widgets/controls",
          "model_name": "HTMLModel",
          "model_module_version": "1.5.0",
          "state": {
            "_dom_classes": [],
            "_model_module": "@jupyter-widgets/controls",
            "_model_module_version": "1.5.0",
            "_model_name": "HTMLModel",
            "_view_count": null,
            "_view_module": "@jupyter-widgets/controls",
            "_view_module_version": "1.5.0",
            "_view_name": "HTMLView",
            "description": "",
            "description_tooltip": null,
            "layout": "IPY_MODEL_79b4bbc2576a48e49d1f1baa653add99",
            "placeholder": "​",
            "style": "IPY_MODEL_e3309a9e8b7a4036b9f8049999e76e4d",
            "value": "100%"
          }
        },
        "96e64d5ed8114c25a4a59927a5c26539": {
          "model_module": "@jupyter-widgets/controls",
          "model_name": "FloatProgressModel",
          "model_module_version": "1.5.0",
          "state": {
            "_dom_classes": [],
            "_model_module": "@jupyter-widgets/controls",
            "_model_module_version": "1.5.0",
            "_model_name": "FloatProgressModel",
            "_view_count": null,
            "_view_module": "@jupyter-widgets/controls",
            "_view_module_version": "1.5.0",
            "_view_name": "ProgressView",
            "bar_style": "success",
            "description": "",
            "description_tooltip": null,
            "layout": "IPY_MODEL_aa4b9290a12947d7a7f95575612e395f",
            "max": 1000,
            "min": 0,
            "orientation": "horizontal",
            "style": "IPY_MODEL_8ff0501059664876a224857f9a3f888c",
            "value": 1000
          }
        },
        "be44451a75dc46d18f79065e852ad788": {
          "model_module": "@jupyter-widgets/controls",
          "model_name": "HTMLModel",
          "model_module_version": "1.5.0",
          "state": {
            "_dom_classes": [],
            "_model_module": "@jupyter-widgets/controls",
            "_model_module_version": "1.5.0",
            "_model_name": "HTMLModel",
            "_view_count": null,
            "_view_module": "@jupyter-widgets/controls",
            "_view_module_version": "1.5.0",
            "_view_name": "HTMLView",
            "description": "",
            "description_tooltip": null,
            "layout": "IPY_MODEL_c0bb4522fcbe4d56a44db485ad68cfe9",
            "placeholder": "​",
            "style": "IPY_MODEL_d235248bff5447668d8b46f21b13cf11",
            "value": " 1000/1000 [00:04&lt;00:00, 231.38it/s]"
          }
        },
        "d4d738da38294b8b93c2e8c5f61a978e": {
          "model_module": "@jupyter-widgets/base",
          "model_name": "LayoutModel",
          "model_module_version": "1.2.0",
          "state": {
            "_model_module": "@jupyter-widgets/base",
            "_model_module_version": "1.2.0",
            "_model_name": "LayoutModel",
            "_view_count": null,
            "_view_module": "@jupyter-widgets/base",
            "_view_module_version": "1.2.0",
            "_view_name": "LayoutView",
            "align_content": null,
            "align_items": null,
            "align_self": null,
            "border": null,
            "bottom": null,
            "display": null,
            "flex": null,
            "flex_flow": null,
            "grid_area": null,
            "grid_auto_columns": null,
            "grid_auto_flow": null,
            "grid_auto_rows": null,
            "grid_column": null,
            "grid_gap": null,
            "grid_row": null,
            "grid_template_areas": null,
            "grid_template_columns": null,
            "grid_template_rows": null,
            "height": null,
            "justify_content": null,
            "justify_items": null,
            "left": null,
            "margin": null,
            "max_height": null,
            "max_width": null,
            "min_height": null,
            "min_width": null,
            "object_fit": null,
            "object_position": null,
            "order": null,
            "overflow": null,
            "overflow_x": null,
            "overflow_y": null,
            "padding": null,
            "right": null,
            "top": null,
            "visibility": null,
            "width": null
          }
        },
        "79b4bbc2576a48e49d1f1baa653add99": {
          "model_module": "@jupyter-widgets/base",
          "model_name": "LayoutModel",
          "model_module_version": "1.2.0",
          "state": {
            "_model_module": "@jupyter-widgets/base",
            "_model_module_version": "1.2.0",
            "_model_name": "LayoutModel",
            "_view_count": null,
            "_view_module": "@jupyter-widgets/base",
            "_view_module_version": "1.2.0",
            "_view_name": "LayoutView",
            "align_content": null,
            "align_items": null,
            "align_self": null,
            "border": null,
            "bottom": null,
            "display": null,
            "flex": null,
            "flex_flow": null,
            "grid_area": null,
            "grid_auto_columns": null,
            "grid_auto_flow": null,
            "grid_auto_rows": null,
            "grid_column": null,
            "grid_gap": null,
            "grid_row": null,
            "grid_template_areas": null,
            "grid_template_columns": null,
            "grid_template_rows": null,
            "height": null,
            "justify_content": null,
            "justify_items": null,
            "left": null,
            "margin": null,
            "max_height": null,
            "max_width": null,
            "min_height": null,
            "min_width": null,
            "object_fit": null,
            "object_position": null,
            "order": null,
            "overflow": null,
            "overflow_x": null,
            "overflow_y": null,
            "padding": null,
            "right": null,
            "top": null,
            "visibility": null,
            "width": null
          }
        },
        "e3309a9e8b7a4036b9f8049999e76e4d": {
          "model_module": "@jupyter-widgets/controls",
          "model_name": "DescriptionStyleModel",
          "model_module_version": "1.5.0",
          "state": {
            "_model_module": "@jupyter-widgets/controls",
            "_model_module_version": "1.5.0",
            "_model_name": "DescriptionStyleModel",
            "_view_count": null,
            "_view_module": "@jupyter-widgets/base",
            "_view_module_version": "1.2.0",
            "_view_name": "StyleView",
            "description_width": ""
          }
        },
        "aa4b9290a12947d7a7f95575612e395f": {
          "model_module": "@jupyter-widgets/base",
          "model_name": "LayoutModel",
          "model_module_version": "1.2.0",
          "state": {
            "_model_module": "@jupyter-widgets/base",
            "_model_module_version": "1.2.0",
            "_model_name": "LayoutModel",
            "_view_count": null,
            "_view_module": "@jupyter-widgets/base",
            "_view_module_version": "1.2.0",
            "_view_name": "LayoutView",
            "align_content": null,
            "align_items": null,
            "align_self": null,
            "border": null,
            "bottom": null,
            "display": null,
            "flex": null,
            "flex_flow": null,
            "grid_area": null,
            "grid_auto_columns": null,
            "grid_auto_flow": null,
            "grid_auto_rows": null,
            "grid_column": null,
            "grid_gap": null,
            "grid_row": null,
            "grid_template_areas": null,
            "grid_template_columns": null,
            "grid_template_rows": null,
            "height": null,
            "justify_content": null,
            "justify_items": null,
            "left": null,
            "margin": null,
            "max_height": null,
            "max_width": null,
            "min_height": null,
            "min_width": null,
            "object_fit": null,
            "object_position": null,
            "order": null,
            "overflow": null,
            "overflow_x": null,
            "overflow_y": null,
            "padding": null,
            "right": null,
            "top": null,
            "visibility": null,
            "width": null
          }
        },
        "8ff0501059664876a224857f9a3f888c": {
          "model_module": "@jupyter-widgets/controls",
          "model_name": "ProgressStyleModel",
          "model_module_version": "1.5.0",
          "state": {
            "_model_module": "@jupyter-widgets/controls",
            "_model_module_version": "1.5.0",
            "_model_name": "ProgressStyleModel",
            "_view_count": null,
            "_view_module": "@jupyter-widgets/base",
            "_view_module_version": "1.2.0",
            "_view_name": "StyleView",
            "bar_color": null,
            "description_width": ""
          }
        },
        "c0bb4522fcbe4d56a44db485ad68cfe9": {
          "model_module": "@jupyter-widgets/base",
          "model_name": "LayoutModel",
          "model_module_version": "1.2.0",
          "state": {
            "_model_module": "@jupyter-widgets/base",
            "_model_module_version": "1.2.0",
            "_model_name": "LayoutModel",
            "_view_count": null,
            "_view_module": "@jupyter-widgets/base",
            "_view_module_version": "1.2.0",
            "_view_name": "LayoutView",
            "align_content": null,
            "align_items": null,
            "align_self": null,
            "border": null,
            "bottom": null,
            "display": null,
            "flex": null,
            "flex_flow": null,
            "grid_area": null,
            "grid_auto_columns": null,
            "grid_auto_flow": null,
            "grid_auto_rows": null,
            "grid_column": null,
            "grid_gap": null,
            "grid_row": null,
            "grid_template_areas": null,
            "grid_template_columns": null,
            "grid_template_rows": null,
            "height": null,
            "justify_content": null,
            "justify_items": null,
            "left": null,
            "margin": null,
            "max_height": null,
            "max_width": null,
            "min_height": null,
            "min_width": null,
            "object_fit": null,
            "object_position": null,
            "order": null,
            "overflow": null,
            "overflow_x": null,
            "overflow_y": null,
            "padding": null,
            "right": null,
            "top": null,
            "visibility": null,
            "width": null
          }
        },
        "d235248bff5447668d8b46f21b13cf11": {
          "model_module": "@jupyter-widgets/controls",
          "model_name": "DescriptionStyleModel",
          "model_module_version": "1.5.0",
          "state": {
            "_model_module": "@jupyter-widgets/controls",
            "_model_module_version": "1.5.0",
            "_model_name": "DescriptionStyleModel",
            "_view_count": null,
            "_view_module": "@jupyter-widgets/base",
            "_view_module_version": "1.2.0",
            "_view_name": "StyleView",
            "description_width": ""
          }
        },
        "2516d5624fb04f0a96c03cadaaad6d69": {
          "model_module": "@jupyter-widgets/controls",
          "model_name": "HBoxModel",
          "model_module_version": "1.5.0",
          "state": {
            "_dom_classes": [],
            "_model_module": "@jupyter-widgets/controls",
            "_model_module_version": "1.5.0",
            "_model_name": "HBoxModel",
            "_view_count": null,
            "_view_module": "@jupyter-widgets/controls",
            "_view_module_version": "1.5.0",
            "_view_name": "HBoxView",
            "box_style": "",
            "children": [
              "IPY_MODEL_b198731ffae949798b41ba72f79544b1",
              "IPY_MODEL_17d722d3a614438f9fedfb44ee553bd7",
              "IPY_MODEL_f759eb173bcb45a0940ac2dd19738bba"
            ],
            "layout": "IPY_MODEL_30061b2616164019bc1bdfe71d5cdfcc"
          }
        },
        "b198731ffae949798b41ba72f79544b1": {
          "model_module": "@jupyter-widgets/controls",
          "model_name": "HTMLModel",
          "model_module_version": "1.5.0",
          "state": {
            "_dom_classes": [],
            "_model_module": "@jupyter-widgets/controls",
            "_model_module_version": "1.5.0",
            "_model_name": "HTMLModel",
            "_view_count": null,
            "_view_module": "@jupyter-widgets/controls",
            "_view_module_version": "1.5.0",
            "_view_name": "HTMLView",
            "description": "",
            "description_tooltip": null,
            "layout": "IPY_MODEL_d58d554316564b0f831b5db251b595f8",
            "placeholder": "​",
            "style": "IPY_MODEL_cd712eafd6514c2ab978e355318506db",
            "value": "100%"
          }
        },
        "17d722d3a614438f9fedfb44ee553bd7": {
          "model_module": "@jupyter-widgets/controls",
          "model_name": "FloatProgressModel",
          "model_module_version": "1.5.0",
          "state": {
            "_dom_classes": [],
            "_model_module": "@jupyter-widgets/controls",
            "_model_module_version": "1.5.0",
            "_model_name": "FloatProgressModel",
            "_view_count": null,
            "_view_module": "@jupyter-widgets/controls",
            "_view_module_version": "1.5.0",
            "_view_name": "ProgressView",
            "bar_style": "success",
            "description": "",
            "description_tooltip": null,
            "layout": "IPY_MODEL_f2ae0d17160a419bb1eaf740afdcf37c",
            "max": 1000,
            "min": 0,
            "orientation": "horizontal",
            "style": "IPY_MODEL_15d811db942b407a99cd277c367b1d94",
            "value": 1000
          }
        },
        "f759eb173bcb45a0940ac2dd19738bba": {
          "model_module": "@jupyter-widgets/controls",
          "model_name": "HTMLModel",
          "model_module_version": "1.5.0",
          "state": {
            "_dom_classes": [],
            "_model_module": "@jupyter-widgets/controls",
            "_model_module_version": "1.5.0",
            "_model_name": "HTMLModel",
            "_view_count": null,
            "_view_module": "@jupyter-widgets/controls",
            "_view_module_version": "1.5.0",
            "_view_name": "HTMLView",
            "description": "",
            "description_tooltip": null,
            "layout": "IPY_MODEL_19ecc3ada0ff49fda0150db02719ecd9",
            "placeholder": "​",
            "style": "IPY_MODEL_52497d4d2de64368a0c7c57f98f2f527",
            "value": " 1000/1000 [00:05&lt;00:00, 185.26it/s]"
          }
        },
        "30061b2616164019bc1bdfe71d5cdfcc": {
          "model_module": "@jupyter-widgets/base",
          "model_name": "LayoutModel",
          "model_module_version": "1.2.0",
          "state": {
            "_model_module": "@jupyter-widgets/base",
            "_model_module_version": "1.2.0",
            "_model_name": "LayoutModel",
            "_view_count": null,
            "_view_module": "@jupyter-widgets/base",
            "_view_module_version": "1.2.0",
            "_view_name": "LayoutView",
            "align_content": null,
            "align_items": null,
            "align_self": null,
            "border": null,
            "bottom": null,
            "display": null,
            "flex": null,
            "flex_flow": null,
            "grid_area": null,
            "grid_auto_columns": null,
            "grid_auto_flow": null,
            "grid_auto_rows": null,
            "grid_column": null,
            "grid_gap": null,
            "grid_row": null,
            "grid_template_areas": null,
            "grid_template_columns": null,
            "grid_template_rows": null,
            "height": null,
            "justify_content": null,
            "justify_items": null,
            "left": null,
            "margin": null,
            "max_height": null,
            "max_width": null,
            "min_height": null,
            "min_width": null,
            "object_fit": null,
            "object_position": null,
            "order": null,
            "overflow": null,
            "overflow_x": null,
            "overflow_y": null,
            "padding": null,
            "right": null,
            "top": null,
            "visibility": null,
            "width": null
          }
        },
        "d58d554316564b0f831b5db251b595f8": {
          "model_module": "@jupyter-widgets/base",
          "model_name": "LayoutModel",
          "model_module_version": "1.2.0",
          "state": {
            "_model_module": "@jupyter-widgets/base",
            "_model_module_version": "1.2.0",
            "_model_name": "LayoutModel",
            "_view_count": null,
            "_view_module": "@jupyter-widgets/base",
            "_view_module_version": "1.2.0",
            "_view_name": "LayoutView",
            "align_content": null,
            "align_items": null,
            "align_self": null,
            "border": null,
            "bottom": null,
            "display": null,
            "flex": null,
            "flex_flow": null,
            "grid_area": null,
            "grid_auto_columns": null,
            "grid_auto_flow": null,
            "grid_auto_rows": null,
            "grid_column": null,
            "grid_gap": null,
            "grid_row": null,
            "grid_template_areas": null,
            "grid_template_columns": null,
            "grid_template_rows": null,
            "height": null,
            "justify_content": null,
            "justify_items": null,
            "left": null,
            "margin": null,
            "max_height": null,
            "max_width": null,
            "min_height": null,
            "min_width": null,
            "object_fit": null,
            "object_position": null,
            "order": null,
            "overflow": null,
            "overflow_x": null,
            "overflow_y": null,
            "padding": null,
            "right": null,
            "top": null,
            "visibility": null,
            "width": null
          }
        },
        "cd712eafd6514c2ab978e355318506db": {
          "model_module": "@jupyter-widgets/controls",
          "model_name": "DescriptionStyleModel",
          "model_module_version": "1.5.0",
          "state": {
            "_model_module": "@jupyter-widgets/controls",
            "_model_module_version": "1.5.0",
            "_model_name": "DescriptionStyleModel",
            "_view_count": null,
            "_view_module": "@jupyter-widgets/base",
            "_view_module_version": "1.2.0",
            "_view_name": "StyleView",
            "description_width": ""
          }
        },
        "f2ae0d17160a419bb1eaf740afdcf37c": {
          "model_module": "@jupyter-widgets/base",
          "model_name": "LayoutModel",
          "model_module_version": "1.2.0",
          "state": {
            "_model_module": "@jupyter-widgets/base",
            "_model_module_version": "1.2.0",
            "_model_name": "LayoutModel",
            "_view_count": null,
            "_view_module": "@jupyter-widgets/base",
            "_view_module_version": "1.2.0",
            "_view_name": "LayoutView",
            "align_content": null,
            "align_items": null,
            "align_self": null,
            "border": null,
            "bottom": null,
            "display": null,
            "flex": null,
            "flex_flow": null,
            "grid_area": null,
            "grid_auto_columns": null,
            "grid_auto_flow": null,
            "grid_auto_rows": null,
            "grid_column": null,
            "grid_gap": null,
            "grid_row": null,
            "grid_template_areas": null,
            "grid_template_columns": null,
            "grid_template_rows": null,
            "height": null,
            "justify_content": null,
            "justify_items": null,
            "left": null,
            "margin": null,
            "max_height": null,
            "max_width": null,
            "min_height": null,
            "min_width": null,
            "object_fit": null,
            "object_position": null,
            "order": null,
            "overflow": null,
            "overflow_x": null,
            "overflow_y": null,
            "padding": null,
            "right": null,
            "top": null,
            "visibility": null,
            "width": null
          }
        },
        "15d811db942b407a99cd277c367b1d94": {
          "model_module": "@jupyter-widgets/controls",
          "model_name": "ProgressStyleModel",
          "model_module_version": "1.5.0",
          "state": {
            "_model_module": "@jupyter-widgets/controls",
            "_model_module_version": "1.5.0",
            "_model_name": "ProgressStyleModel",
            "_view_count": null,
            "_view_module": "@jupyter-widgets/base",
            "_view_module_version": "1.2.0",
            "_view_name": "StyleView",
            "bar_color": null,
            "description_width": ""
          }
        },
        "19ecc3ada0ff49fda0150db02719ecd9": {
          "model_module": "@jupyter-widgets/base",
          "model_name": "LayoutModel",
          "model_module_version": "1.2.0",
          "state": {
            "_model_module": "@jupyter-widgets/base",
            "_model_module_version": "1.2.0",
            "_model_name": "LayoutModel",
            "_view_count": null,
            "_view_module": "@jupyter-widgets/base",
            "_view_module_version": "1.2.0",
            "_view_name": "LayoutView",
            "align_content": null,
            "align_items": null,
            "align_self": null,
            "border": null,
            "bottom": null,
            "display": null,
            "flex": null,
            "flex_flow": null,
            "grid_area": null,
            "grid_auto_columns": null,
            "grid_auto_flow": null,
            "grid_auto_rows": null,
            "grid_column": null,
            "grid_gap": null,
            "grid_row": null,
            "grid_template_areas": null,
            "grid_template_columns": null,
            "grid_template_rows": null,
            "height": null,
            "justify_content": null,
            "justify_items": null,
            "left": null,
            "margin": null,
            "max_height": null,
            "max_width": null,
            "min_height": null,
            "min_width": null,
            "object_fit": null,
            "object_position": null,
            "order": null,
            "overflow": null,
            "overflow_x": null,
            "overflow_y": null,
            "padding": null,
            "right": null,
            "top": null,
            "visibility": null,
            "width": null
          }
        },
        "52497d4d2de64368a0c7c57f98f2f527": {
          "model_module": "@jupyter-widgets/controls",
          "model_name": "DescriptionStyleModel",
          "model_module_version": "1.5.0",
          "state": {
            "_model_module": "@jupyter-widgets/controls",
            "_model_module_version": "1.5.0",
            "_model_name": "DescriptionStyleModel",
            "_view_count": null,
            "_view_module": "@jupyter-widgets/base",
            "_view_module_version": "1.2.0",
            "_view_name": "StyleView",
            "description_width": ""
          }
        },
        "310928740bed4e419e1610ff3d6c76f8": {
          "model_module": "@jupyter-widgets/controls",
          "model_name": "HBoxModel",
          "model_module_version": "1.5.0",
          "state": {
            "_dom_classes": [],
            "_model_module": "@jupyter-widgets/controls",
            "_model_module_version": "1.5.0",
            "_model_name": "HBoxModel",
            "_view_count": null,
            "_view_module": "@jupyter-widgets/controls",
            "_view_module_version": "1.5.0",
            "_view_name": "HBoxView",
            "box_style": "",
            "children": [
              "IPY_MODEL_267a2709f99d42a58e6bad53aeddc2fd",
              "IPY_MODEL_8fbb16eabe7e495a8651cc0172418007",
              "IPY_MODEL_dc5705b787ac4273bfe0f86b1a69c6ab"
            ],
            "layout": "IPY_MODEL_d55d74cacbfd474a97e0d9c15ac4b780"
          }
        },
        "267a2709f99d42a58e6bad53aeddc2fd": {
          "model_module": "@jupyter-widgets/controls",
          "model_name": "HTMLModel",
          "model_module_version": "1.5.0",
          "state": {
            "_dom_classes": [],
            "_model_module": "@jupyter-widgets/controls",
            "_model_module_version": "1.5.0",
            "_model_name": "HTMLModel",
            "_view_count": null,
            "_view_module": "@jupyter-widgets/controls",
            "_view_module_version": "1.5.0",
            "_view_name": "HTMLView",
            "description": "",
            "description_tooltip": null,
            "layout": "IPY_MODEL_6f01c42a5183463ba268f06f3cdb0dd2",
            "placeholder": "​",
            "style": "IPY_MODEL_976ef8ce28634e2e9dc65b36a5564594",
            "value": "100%"
          }
        },
        "8fbb16eabe7e495a8651cc0172418007": {
          "model_module": "@jupyter-widgets/controls",
          "model_name": "FloatProgressModel",
          "model_module_version": "1.5.0",
          "state": {
            "_dom_classes": [],
            "_model_module": "@jupyter-widgets/controls",
            "_model_module_version": "1.5.0",
            "_model_name": "FloatProgressModel",
            "_view_count": null,
            "_view_module": "@jupyter-widgets/controls",
            "_view_module_version": "1.5.0",
            "_view_name": "ProgressView",
            "bar_style": "success",
            "description": "",
            "description_tooltip": null,
            "layout": "IPY_MODEL_0e0e589792d34a11924473e17abd0183",
            "max": 1000,
            "min": 0,
            "orientation": "horizontal",
            "style": "IPY_MODEL_55076804bf3b4188bb4ab9af36ca6523",
            "value": 1000
          }
        },
        "dc5705b787ac4273bfe0f86b1a69c6ab": {
          "model_module": "@jupyter-widgets/controls",
          "model_name": "HTMLModel",
          "model_module_version": "1.5.0",
          "state": {
            "_dom_classes": [],
            "_model_module": "@jupyter-widgets/controls",
            "_model_module_version": "1.5.0",
            "_model_name": "HTMLModel",
            "_view_count": null,
            "_view_module": "@jupyter-widgets/controls",
            "_view_module_version": "1.5.0",
            "_view_name": "HTMLView",
            "description": "",
            "description_tooltip": null,
            "layout": "IPY_MODEL_c9469dfc6fe84219926d101b61717b49",
            "placeholder": "​",
            "style": "IPY_MODEL_baf823575a56459799daec2febf43525",
            "value": " 1000/1000 [00:04&lt;00:00, 222.29it/s]"
          }
        },
        "d55d74cacbfd474a97e0d9c15ac4b780": {
          "model_module": "@jupyter-widgets/base",
          "model_name": "LayoutModel",
          "model_module_version": "1.2.0",
          "state": {
            "_model_module": "@jupyter-widgets/base",
            "_model_module_version": "1.2.0",
            "_model_name": "LayoutModel",
            "_view_count": null,
            "_view_module": "@jupyter-widgets/base",
            "_view_module_version": "1.2.0",
            "_view_name": "LayoutView",
            "align_content": null,
            "align_items": null,
            "align_self": null,
            "border": null,
            "bottom": null,
            "display": null,
            "flex": null,
            "flex_flow": null,
            "grid_area": null,
            "grid_auto_columns": null,
            "grid_auto_flow": null,
            "grid_auto_rows": null,
            "grid_column": null,
            "grid_gap": null,
            "grid_row": null,
            "grid_template_areas": null,
            "grid_template_columns": null,
            "grid_template_rows": null,
            "height": null,
            "justify_content": null,
            "justify_items": null,
            "left": null,
            "margin": null,
            "max_height": null,
            "max_width": null,
            "min_height": null,
            "min_width": null,
            "object_fit": null,
            "object_position": null,
            "order": null,
            "overflow": null,
            "overflow_x": null,
            "overflow_y": null,
            "padding": null,
            "right": null,
            "top": null,
            "visibility": null,
            "width": null
          }
        },
        "6f01c42a5183463ba268f06f3cdb0dd2": {
          "model_module": "@jupyter-widgets/base",
          "model_name": "LayoutModel",
          "model_module_version": "1.2.0",
          "state": {
            "_model_module": "@jupyter-widgets/base",
            "_model_module_version": "1.2.0",
            "_model_name": "LayoutModel",
            "_view_count": null,
            "_view_module": "@jupyter-widgets/base",
            "_view_module_version": "1.2.0",
            "_view_name": "LayoutView",
            "align_content": null,
            "align_items": null,
            "align_self": null,
            "border": null,
            "bottom": null,
            "display": null,
            "flex": null,
            "flex_flow": null,
            "grid_area": null,
            "grid_auto_columns": null,
            "grid_auto_flow": null,
            "grid_auto_rows": null,
            "grid_column": null,
            "grid_gap": null,
            "grid_row": null,
            "grid_template_areas": null,
            "grid_template_columns": null,
            "grid_template_rows": null,
            "height": null,
            "justify_content": null,
            "justify_items": null,
            "left": null,
            "margin": null,
            "max_height": null,
            "max_width": null,
            "min_height": null,
            "min_width": null,
            "object_fit": null,
            "object_position": null,
            "order": null,
            "overflow": null,
            "overflow_x": null,
            "overflow_y": null,
            "padding": null,
            "right": null,
            "top": null,
            "visibility": null,
            "width": null
          }
        },
        "976ef8ce28634e2e9dc65b36a5564594": {
          "model_module": "@jupyter-widgets/controls",
          "model_name": "DescriptionStyleModel",
          "model_module_version": "1.5.0",
          "state": {
            "_model_module": "@jupyter-widgets/controls",
            "_model_module_version": "1.5.0",
            "_model_name": "DescriptionStyleModel",
            "_view_count": null,
            "_view_module": "@jupyter-widgets/base",
            "_view_module_version": "1.2.0",
            "_view_name": "StyleView",
            "description_width": ""
          }
        },
        "0e0e589792d34a11924473e17abd0183": {
          "model_module": "@jupyter-widgets/base",
          "model_name": "LayoutModel",
          "model_module_version": "1.2.0",
          "state": {
            "_model_module": "@jupyter-widgets/base",
            "_model_module_version": "1.2.0",
            "_model_name": "LayoutModel",
            "_view_count": null,
            "_view_module": "@jupyter-widgets/base",
            "_view_module_version": "1.2.0",
            "_view_name": "LayoutView",
            "align_content": null,
            "align_items": null,
            "align_self": null,
            "border": null,
            "bottom": null,
            "display": null,
            "flex": null,
            "flex_flow": null,
            "grid_area": null,
            "grid_auto_columns": null,
            "grid_auto_flow": null,
            "grid_auto_rows": null,
            "grid_column": null,
            "grid_gap": null,
            "grid_row": null,
            "grid_template_areas": null,
            "grid_template_columns": null,
            "grid_template_rows": null,
            "height": null,
            "justify_content": null,
            "justify_items": null,
            "left": null,
            "margin": null,
            "max_height": null,
            "max_width": null,
            "min_height": null,
            "min_width": null,
            "object_fit": null,
            "object_position": null,
            "order": null,
            "overflow": null,
            "overflow_x": null,
            "overflow_y": null,
            "padding": null,
            "right": null,
            "top": null,
            "visibility": null,
            "width": null
          }
        },
        "55076804bf3b4188bb4ab9af36ca6523": {
          "model_module": "@jupyter-widgets/controls",
          "model_name": "ProgressStyleModel",
          "model_module_version": "1.5.0",
          "state": {
            "_model_module": "@jupyter-widgets/controls",
            "_model_module_version": "1.5.0",
            "_model_name": "ProgressStyleModel",
            "_view_count": null,
            "_view_module": "@jupyter-widgets/base",
            "_view_module_version": "1.2.0",
            "_view_name": "StyleView",
            "bar_color": null,
            "description_width": ""
          }
        },
        "c9469dfc6fe84219926d101b61717b49": {
          "model_module": "@jupyter-widgets/base",
          "model_name": "LayoutModel",
          "model_module_version": "1.2.0",
          "state": {
            "_model_module": "@jupyter-widgets/base",
            "_model_module_version": "1.2.0",
            "_model_name": "LayoutModel",
            "_view_count": null,
            "_view_module": "@jupyter-widgets/base",
            "_view_module_version": "1.2.0",
            "_view_name": "LayoutView",
            "align_content": null,
            "align_items": null,
            "align_self": null,
            "border": null,
            "bottom": null,
            "display": null,
            "flex": null,
            "flex_flow": null,
            "grid_area": null,
            "grid_auto_columns": null,
            "grid_auto_flow": null,
            "grid_auto_rows": null,
            "grid_column": null,
            "grid_gap": null,
            "grid_row": null,
            "grid_template_areas": null,
            "grid_template_columns": null,
            "grid_template_rows": null,
            "height": null,
            "justify_content": null,
            "justify_items": null,
            "left": null,
            "margin": null,
            "max_height": null,
            "max_width": null,
            "min_height": null,
            "min_width": null,
            "object_fit": null,
            "object_position": null,
            "order": null,
            "overflow": null,
            "overflow_x": null,
            "overflow_y": null,
            "padding": null,
            "right": null,
            "top": null,
            "visibility": null,
            "width": null
          }
        },
        "baf823575a56459799daec2febf43525": {
          "model_module": "@jupyter-widgets/controls",
          "model_name": "DescriptionStyleModel",
          "model_module_version": "1.5.0",
          "state": {
            "_model_module": "@jupyter-widgets/controls",
            "_model_module_version": "1.5.0",
            "_model_name": "DescriptionStyleModel",
            "_view_count": null,
            "_view_module": "@jupyter-widgets/base",
            "_view_module_version": "1.2.0",
            "_view_name": "StyleView",
            "description_width": ""
          }
        },
        "ea481a294aad432da76b3fe71c7d4bbe": {
          "model_module": "@jupyter-widgets/controls",
          "model_name": "HBoxModel",
          "model_module_version": "1.5.0",
          "state": {
            "_dom_classes": [],
            "_model_module": "@jupyter-widgets/controls",
            "_model_module_version": "1.5.0",
            "_model_name": "HBoxModel",
            "_view_count": null,
            "_view_module": "@jupyter-widgets/controls",
            "_view_module_version": "1.5.0",
            "_view_name": "HBoxView",
            "box_style": "",
            "children": [
              "IPY_MODEL_1836b0f4b0b44e449d3b26a0818d3666",
              "IPY_MODEL_215c6f6e282d4e2cad6b4e0a2b7e83af",
              "IPY_MODEL_d81fb10f06534dd5b5cc70742ac2e23b"
            ],
            "layout": "IPY_MODEL_c150322a7710449cb4e6f54ce830a433"
          }
        },
        "1836b0f4b0b44e449d3b26a0818d3666": {
          "model_module": "@jupyter-widgets/controls",
          "model_name": "HTMLModel",
          "model_module_version": "1.5.0",
          "state": {
            "_dom_classes": [],
            "_model_module": "@jupyter-widgets/controls",
            "_model_module_version": "1.5.0",
            "_model_name": "HTMLModel",
            "_view_count": null,
            "_view_module": "@jupyter-widgets/controls",
            "_view_module_version": "1.5.0",
            "_view_name": "HTMLView",
            "description": "",
            "description_tooltip": null,
            "layout": "IPY_MODEL_2ab722c2dc63440b8fd90ca2185c253f",
            "placeholder": "​",
            "style": "IPY_MODEL_dc2a324001b7498f9e1d9b83c570266d",
            "value": "100%"
          }
        },
        "215c6f6e282d4e2cad6b4e0a2b7e83af": {
          "model_module": "@jupyter-widgets/controls",
          "model_name": "FloatProgressModel",
          "model_module_version": "1.5.0",
          "state": {
            "_dom_classes": [],
            "_model_module": "@jupyter-widgets/controls",
            "_model_module_version": "1.5.0",
            "_model_name": "FloatProgressModel",
            "_view_count": null,
            "_view_module": "@jupyter-widgets/controls",
            "_view_module_version": "1.5.0",
            "_view_name": "ProgressView",
            "bar_style": "success",
            "description": "",
            "description_tooltip": null,
            "layout": "IPY_MODEL_d02084de4c6642a0b5a6ac060a9c5c7b",
            "max": 1000,
            "min": 0,
            "orientation": "horizontal",
            "style": "IPY_MODEL_1e922180a5ec4780ba75d92e2d696c3d",
            "value": 1000
          }
        },
        "d81fb10f06534dd5b5cc70742ac2e23b": {
          "model_module": "@jupyter-widgets/controls",
          "model_name": "HTMLModel",
          "model_module_version": "1.5.0",
          "state": {
            "_dom_classes": [],
            "_model_module": "@jupyter-widgets/controls",
            "_model_module_version": "1.5.0",
            "_model_name": "HTMLModel",
            "_view_count": null,
            "_view_module": "@jupyter-widgets/controls",
            "_view_module_version": "1.5.0",
            "_view_name": "HTMLView",
            "description": "",
            "description_tooltip": null,
            "layout": "IPY_MODEL_a5fa8486c82f43e1b85b6258679c548f",
            "placeholder": "​",
            "style": "IPY_MODEL_99e4d5f5b0f5457bbc5a24146fbf233f",
            "value": " 1000/1000 [00:06&lt;00:00, 178.91it/s]"
          }
        },
        "c150322a7710449cb4e6f54ce830a433": {
          "model_module": "@jupyter-widgets/base",
          "model_name": "LayoutModel",
          "model_module_version": "1.2.0",
          "state": {
            "_model_module": "@jupyter-widgets/base",
            "_model_module_version": "1.2.0",
            "_model_name": "LayoutModel",
            "_view_count": null,
            "_view_module": "@jupyter-widgets/base",
            "_view_module_version": "1.2.0",
            "_view_name": "LayoutView",
            "align_content": null,
            "align_items": null,
            "align_self": null,
            "border": null,
            "bottom": null,
            "display": null,
            "flex": null,
            "flex_flow": null,
            "grid_area": null,
            "grid_auto_columns": null,
            "grid_auto_flow": null,
            "grid_auto_rows": null,
            "grid_column": null,
            "grid_gap": null,
            "grid_row": null,
            "grid_template_areas": null,
            "grid_template_columns": null,
            "grid_template_rows": null,
            "height": null,
            "justify_content": null,
            "justify_items": null,
            "left": null,
            "margin": null,
            "max_height": null,
            "max_width": null,
            "min_height": null,
            "min_width": null,
            "object_fit": null,
            "object_position": null,
            "order": null,
            "overflow": null,
            "overflow_x": null,
            "overflow_y": null,
            "padding": null,
            "right": null,
            "top": null,
            "visibility": null,
            "width": null
          }
        },
        "2ab722c2dc63440b8fd90ca2185c253f": {
          "model_module": "@jupyter-widgets/base",
          "model_name": "LayoutModel",
          "model_module_version": "1.2.0",
          "state": {
            "_model_module": "@jupyter-widgets/base",
            "_model_module_version": "1.2.0",
            "_model_name": "LayoutModel",
            "_view_count": null,
            "_view_module": "@jupyter-widgets/base",
            "_view_module_version": "1.2.0",
            "_view_name": "LayoutView",
            "align_content": null,
            "align_items": null,
            "align_self": null,
            "border": null,
            "bottom": null,
            "display": null,
            "flex": null,
            "flex_flow": null,
            "grid_area": null,
            "grid_auto_columns": null,
            "grid_auto_flow": null,
            "grid_auto_rows": null,
            "grid_column": null,
            "grid_gap": null,
            "grid_row": null,
            "grid_template_areas": null,
            "grid_template_columns": null,
            "grid_template_rows": null,
            "height": null,
            "justify_content": null,
            "justify_items": null,
            "left": null,
            "margin": null,
            "max_height": null,
            "max_width": null,
            "min_height": null,
            "min_width": null,
            "object_fit": null,
            "object_position": null,
            "order": null,
            "overflow": null,
            "overflow_x": null,
            "overflow_y": null,
            "padding": null,
            "right": null,
            "top": null,
            "visibility": null,
            "width": null
          }
        },
        "dc2a324001b7498f9e1d9b83c570266d": {
          "model_module": "@jupyter-widgets/controls",
          "model_name": "DescriptionStyleModel",
          "model_module_version": "1.5.0",
          "state": {
            "_model_module": "@jupyter-widgets/controls",
            "_model_module_version": "1.5.0",
            "_model_name": "DescriptionStyleModel",
            "_view_count": null,
            "_view_module": "@jupyter-widgets/base",
            "_view_module_version": "1.2.0",
            "_view_name": "StyleView",
            "description_width": ""
          }
        },
        "d02084de4c6642a0b5a6ac060a9c5c7b": {
          "model_module": "@jupyter-widgets/base",
          "model_name": "LayoutModel",
          "model_module_version": "1.2.0",
          "state": {
            "_model_module": "@jupyter-widgets/base",
            "_model_module_version": "1.2.0",
            "_model_name": "LayoutModel",
            "_view_count": null,
            "_view_module": "@jupyter-widgets/base",
            "_view_module_version": "1.2.0",
            "_view_name": "LayoutView",
            "align_content": null,
            "align_items": null,
            "align_self": null,
            "border": null,
            "bottom": null,
            "display": null,
            "flex": null,
            "flex_flow": null,
            "grid_area": null,
            "grid_auto_columns": null,
            "grid_auto_flow": null,
            "grid_auto_rows": null,
            "grid_column": null,
            "grid_gap": null,
            "grid_row": null,
            "grid_template_areas": null,
            "grid_template_columns": null,
            "grid_template_rows": null,
            "height": null,
            "justify_content": null,
            "justify_items": null,
            "left": null,
            "margin": null,
            "max_height": null,
            "max_width": null,
            "min_height": null,
            "min_width": null,
            "object_fit": null,
            "object_position": null,
            "order": null,
            "overflow": null,
            "overflow_x": null,
            "overflow_y": null,
            "padding": null,
            "right": null,
            "top": null,
            "visibility": null,
            "width": null
          }
        },
        "1e922180a5ec4780ba75d92e2d696c3d": {
          "model_module": "@jupyter-widgets/controls",
          "model_name": "ProgressStyleModel",
          "model_module_version": "1.5.0",
          "state": {
            "_model_module": "@jupyter-widgets/controls",
            "_model_module_version": "1.5.0",
            "_model_name": "ProgressStyleModel",
            "_view_count": null,
            "_view_module": "@jupyter-widgets/base",
            "_view_module_version": "1.2.0",
            "_view_name": "StyleView",
            "bar_color": null,
            "description_width": ""
          }
        },
        "a5fa8486c82f43e1b85b6258679c548f": {
          "model_module": "@jupyter-widgets/base",
          "model_name": "LayoutModel",
          "model_module_version": "1.2.0",
          "state": {
            "_model_module": "@jupyter-widgets/base",
            "_model_module_version": "1.2.0",
            "_model_name": "LayoutModel",
            "_view_count": null,
            "_view_module": "@jupyter-widgets/base",
            "_view_module_version": "1.2.0",
            "_view_name": "LayoutView",
            "align_content": null,
            "align_items": null,
            "align_self": null,
            "border": null,
            "bottom": null,
            "display": null,
            "flex": null,
            "flex_flow": null,
            "grid_area": null,
            "grid_auto_columns": null,
            "grid_auto_flow": null,
            "grid_auto_rows": null,
            "grid_column": null,
            "grid_gap": null,
            "grid_row": null,
            "grid_template_areas": null,
            "grid_template_columns": null,
            "grid_template_rows": null,
            "height": null,
            "justify_content": null,
            "justify_items": null,
            "left": null,
            "margin": null,
            "max_height": null,
            "max_width": null,
            "min_height": null,
            "min_width": null,
            "object_fit": null,
            "object_position": null,
            "order": null,
            "overflow": null,
            "overflow_x": null,
            "overflow_y": null,
            "padding": null,
            "right": null,
            "top": null,
            "visibility": null,
            "width": null
          }
        },
        "99e4d5f5b0f5457bbc5a24146fbf233f": {
          "model_module": "@jupyter-widgets/controls",
          "model_name": "DescriptionStyleModel",
          "model_module_version": "1.5.0",
          "state": {
            "_model_module": "@jupyter-widgets/controls",
            "_model_module_version": "1.5.0",
            "_model_name": "DescriptionStyleModel",
            "_view_count": null,
            "_view_module": "@jupyter-widgets/base",
            "_view_module_version": "1.2.0",
            "_view_name": "StyleView",
            "description_width": ""
          }
        }
      }
    }
  },
  "cells": [
    {
      "cell_type": "markdown",
      "metadata": {
        "id": "view-in-github",
        "colab_type": "text"
      },
      "source": [
        "<a href=\"https://colab.research.google.com/github/pleask/sLIME/blob/main/tutorials/generated_datasets.ipynb\" target=\"_parent\"><img src=\"https://colab.research.google.com/assets/colab-badge.svg\" alt=\"Open In Colab\"/></a>"
      ]
    },
    {
      "cell_type": "markdown",
      "source": [
        "# sLIME for Generated Datasets\n",
        "This tutorial is a walkthrough on how to apply sLIME to explainability problems where we have access to the underlying generative process for the images. This is an unlikely scenario, but clearly demonstrates use of sLIME for arbitrary features without the additional complexity of building transformers.\n",
        "\n",
        "We use the [sLIME Shapes](https://github.com/pleask/slime-shapes) dataset, which consists of coloured geometric shapes on a coloured background."
      ],
      "metadata": {
        "id": "F0X2b1R2VpNl"
      }
    },
    {
      "cell_type": "code",
      "execution_count": 1,
      "metadata": {
        "id": "1z9AzgDlVgqs"
      },
      "outputs": [],
      "source": [
        "%%capture\n",
        "!pip install git+https://github.com/pleask/slime-shapes.git\n",
        "!pip install git+https://github.com/pleask/sLIME.git\n",
        "\n",
        "import matplotlib.pyplot as plt\n",
        "%matplotlib inline\n",
        "\n",
        "from dataclasses import dataclass\n",
        "import numpy as np\n",
        "\n",
        "@dataclass\n",
        "class TitledImage:\n",
        "  title: str\n",
        "  img: np.ndarray"
      ]
    },
    {
      "cell_type": "code",
      "source": [
        "from slime_shapes import shapes\n",
        "\n",
        "positions = shapes.get_positions(100, 2)\n",
        "canvas = shapes.Square(positions[0], colour=shapes.ORANGE).create_canvas()\n",
        "shapes.Square(positions[1], colour=shapes.BLUE).add_to_image(canvas)\n",
        "shapes.Circle(positions[2], colour=shapes.PINK).add_to_image(canvas)\n",
        "plt.imshow(canvas);"
      ],
      "metadata": {
        "colab": {
          "base_uri": "https://localhost:8080/",
          "height": 268
        },
        "id": "Y2WhwO6CWd72",
        "outputId": "827e67a1-5db2-4973-e020-fc26d3c953b3"
      },
      "execution_count": 2,
      "outputs": [
        {
          "output_type": "display_data",
          "data": {
            "text/plain": [
              "<Figure size 432x288 with 1 Axes>"
            ],
            "image/png": "[encoded data removed]"
          },
          "metadata": {
            "needs_background": "light"
          }
        }
      ]
    },
    {
      "cell_type": "markdown",
      "source": [
        "## Classification Problem\n",
        "We formulate the following classification problem. We have a dataset of images that belong to four different classes; each image consists of a coloured background, and may contain a square, a circle, or both. The sizes of the shapes are random, within a range, and are also randomly placed, except that they may not overlap or extend beyond the boundaries of the image. The background is known to take any colour, but the shapes are always blue. Pretend that the different shapes represent different animals, and the background is just wherever they happen to be standing when the photo is taken.\n"
      ],
      "metadata": {
        "id": "IGgcXbvzW6fD"
      }
    },
    {
      "cell_type": "code",
      "source": [
        "\"\"\"\n",
        "Classes for generating the data during training and validation.\n",
        "\"\"\"\n",
        "from typing import Union, Callable\n",
        "from tensorflow.keras.utils import Sequence\n",
        "from tensorflow import stack\n",
        "\n",
        "CANVAS_SIZE = 32\n",
        "\n",
        "@dataclass\n",
        "class ShapesClass:\n",
        "  class_id: int\n",
        "  name: str\n",
        "  shapes: list\n",
        "  # allow callbacks for getting random colours later\n",
        "  background_colour: Union[shapes.Shape, Callable]\n",
        "\n",
        "class ShapeClassificationDataset(Sequence):\n",
        "  \"\"\"\n",
        "  Dataset of shapes images and their classes. A list of ShapesClass objects is\n",
        "  used to specify which classes to generate (particularly their background).\n",
        "  \"\"\"\n",
        "  def __init__(self, classes, size, batch_size, canvas_size=CANVAS_SIZE):\n",
        "    self._classes = classes\n",
        "    self._batch_size = batch_size\n",
        "    self._size = size\n",
        "    self._canvas_size = canvas_size\n",
        "\n",
        "  def __len__(self):\n",
        "    return self._size // self._batch_size\n",
        "\n",
        "  def __getitem__(self, idx):\n",
        "    \"\"\"\n",
        "    Gets the idx-th batch of examples. Reproducibility is ignored here for\n",
        "    brevity, each batch consists of random examples.\n",
        "    \"\"\"\n",
        "    xs, ys = [], []\n",
        "    for _ in range(self._batch_size // len(self._classes)):\n",
        "      for c in self._classes:\n",
        "        x, y, = self._generate_instance(c)\n",
        "        xs.append(x)\n",
        "        ys.append(y)\n",
        "    return stack(xs), stack(ys)\n",
        "  \n",
        "  def _generate_instance(self, c):\n",
        "    positions = shapes.get_positions(self._canvas_size, len(c.shapes), min_ratio=0.25, max_ratio=0.375)\n",
        "    try:\n",
        "      background_colour = c.background_colour()\n",
        "    except TypeError:\n",
        "      background_colour = c.background_colour\n",
        "    canvas = shapes.Square(positions[0], colour=background_colour).create_canvas()\n",
        "    for i, shape in enumerate(c.shapes):\n",
        "      shape(positions[i+1], colour=shapes.BLUE).add_to_image(canvas)\n",
        "    return canvas / 255.0, c.class_id"
      ],
      "metadata": {
        "id": "DHcJ6nWZYgnW"
      },
      "execution_count": 3,
      "outputs": []
    },
    {
      "cell_type": "markdown",
      "source": [
        "Due to bias in collecting the training data, each class was seen only on a single background (eg. all images containing only a circle were seen on an orange background, and all images containing only a square were seen on a pink background). For animals, this may be like only having photos of a tiger on a snowy background, despite their range extending into jungle and grassland."
      ],
      "metadata": {
        "id": "HAUzryOZcXz3"
      }
    },
    {
      "cell_type": "code",
      "source": [
        "\"\"\"\n",
        "The fixed background dataset the model will initially be trained with.\n",
        "\"\"\"\n",
        "from mpl_toolkits.axes_grid1 import ImageGrid\n",
        "\n",
        "fixed_background_classes = [\n",
        "  ShapesClass(0, 'none', [], shapes.PURPLE),\n",
        "  ShapesClass(1, 'circle', [shapes.Circle], shapes.ORANGE),\n",
        "  ShapesClass(2, 'square', [shapes.Square], shapes.PINK),\n",
        "  ShapesClass(3, 'both', [shapes.Circle, shapes.Square], shapes.SALMON),\n",
        "]\n",
        "\n",
        "batch = ShapeClassificationDataset(fixed_background_classes, 4, 4)[0]\n",
        "images = []\n",
        "for i in range(4):\n",
        "  images.append(TitledImage(\n",
        "    f'Image from class {fixed_background_classes[i].name}',\n",
        "    batch[0][i]\n",
        "  ))\n",
        "fig = plt.figure(figsize=(8., 12.))\n",
        "grid = ImageGrid(fig, 111, nrows_ncols=(2, 2), axes_pad=0.5)\n",
        "for ax, im in zip(grid, images):\n",
        "  ax.imshow(im.img)\n",
        "  ax.set_title(im.title)"
      ],
      "metadata": {
        "colab": {
          "base_uri": "https://localhost:8080/",
          "height": 510
        },
        "id": "y4AM8YKubAfE",
        "outputId": "9a4b1842-858f-49f1-8564-90e2f6137c47"
      },
      "execution_count": 4,
      "outputs": [
        {
          "output_type": "display_data",
          "data": {
            "text/plain": [
              "<Figure size 576x864 with 8 Axes>"
            ],
            "image/png": "[encoded data removed]"
          },
          "metadata": {
            "needs_background": "light"
          }
        }
      ]
    },
    {
      "cell_type": "markdown",
      "source": [
        "This sampling bias means that there are two clear ways of identifying these classes: either by using the shapes, or by using the colour of the background. However, this is an issue, as we already know the background cannot be solely used for classification. When we build our classification model, we want to check whether it uses the shapes or the background."
      ],
      "metadata": {
        "id": "XRG4jIZZcf04"
      }
    },
    {
      "cell_type": "code",
      "source": [
        "from tensorflow.keras.utils import Sequence\n",
        "from tensorflow.keras import layers, Sequential\n",
        "from tensorflow.keras.losses import SparseCategoricalCrossentropy\n",
        "\n",
        "def get_shape_classifier(background_classes):\n",
        "  num_classes = len(background_classes)\n",
        "\n",
        "  model = Sequential([\n",
        "    layers.Conv2D(4, 3, padding='same', activation='relu'),\n",
        "    layers.MaxPooling2D(),\n",
        "    layers.Conv2D(8, 3, padding='same', activation='relu'),\n",
        "    layers.MaxPooling2D(),\n",
        "    layers.Conv2D(16, 3, padding='same', activation='relu'),\n",
        "    layers.MaxPooling2D(),\n",
        "    layers.Conv2D(32, 3, padding='same', activation='relu'),\n",
        "    layers.MaxPooling2D(),\n",
        "    layers.Conv2D(64, 3, padding='same', activation='relu'),\n",
        "    layers.MaxPooling2D(),\n",
        "    layers.Flatten(),\n",
        "    layers.Dense(128, activation='relu'),\n",
        "    layers.Dense(num_classes)\n",
        "  ])\n",
        "\n",
        "  model.compile(optimizer='adam',\n",
        "                loss=SparseCategoricalCrossentropy(from_logits=True),\n",
        "                metrics=['accuracy'])\n",
        "\n",
        "  epochs=3\n",
        "  history = model.fit(\n",
        "    ShapeClassificationDataset(background_classes, 10000, 32),\n",
        "    validation_data=ShapeClassificationDataset(background_classes, 1000, 32),\n",
        "    epochs=epochs\n",
        "  )\n",
        "\n",
        "  return model\n",
        "\n",
        "shape_classifier = get_shape_classifier(fixed_background_classes)"
      ],
      "metadata": {
        "colab": {
          "base_uri": "https://localhost:8080/"
        },
        "id": "7XFNIqjEb0gB",
        "outputId": "50471f88-cd5c-44da-e574-6274e27602da"
      },
      "execution_count": 6,
      "outputs": [
        {
          "output_type": "stream",
          "name": "stdout",
          "text": [
            "Epoch 1/3\n",
            "312/312 [==============================] - 17s 46ms/step - loss: 0.1757 - accuracy: 0.9234 - val_loss: 1.7260e-04 - val_accuracy: 1.0000\n",
            "Epoch 2/3\n",
            "312/312 [==============================] - 18s 59ms/step - loss: 8.7869e-05 - accuracy: 1.0000 - val_loss: 3.9984e-05 - val_accuracy: 1.0000\n",
            "Epoch 3/3\n",
            "312/312 [==============================] - 14s 45ms/step - loss: 2.7189e-05 - accuracy: 1.0000 - val_loss: 1.6294e-05 - val_accuracy: 1.0000\n"
          ]
        }
      ]
    },
    {
      "cell_type": "markdown",
      "source": [
        "This network performs (predictably) well on the sampled images with fixed backgrounds per class."
      ],
      "metadata": {
        "id": "sOKimwEodK4Q"
      }
    },
    {
      "cell_type": "code",
      "source": [
        "from tensorflow.keras.utils import img_to_array\n",
        "from tensorflow.nn import softmax\n",
        "\n",
        "def show_class_predictions(classes, model):\n",
        "  batch = ShapeClassificationDataset(classes, 4, 4)[0][0]\n",
        "  predictions = model.predict(batch)\n",
        "  scores = softmax(predictions)\n",
        "\n",
        "  images = []\n",
        "  for i in range(4):\n",
        "    class_name = classes[np.argmax(scores[i])].name\n",
        "    confidence = np.max(scores[i])\n",
        "    title = f'{100*confidence:.2f}% {class_name}'\n",
        "    images.append(TitledImage(title, batch[i]))\n",
        "  fig = plt.figure(figsize=(8., 12.))\n",
        "  grid = ImageGrid(fig, 111, nrows_ncols=(2, 2), axes_pad=0.5)\n",
        "  for ax, im in zip(grid, images):\n",
        "    ax.imshow(im.img)\n",
        "    ax.set_title(im.title)\n",
        "\n",
        "show_class_predictions(fixed_background_classes, shape_classifier)"
      ],
      "metadata": {
        "colab": {
          "base_uri": "https://localhost:8080/",
          "height": 510
        },
        "id": "bRvC1WBddhDW",
        "outputId": "9dddcc6e-31ae-46dc-ac72-996c97f36178"
      },
      "execution_count": 53,
      "outputs": [
        {
          "output_type": "display_data",
          "data": {
            "text/plain": [
              "<Figure size 576x864 with 8 Axes>"
            ],
            "image/png": "[encoded data removed]"
          },
          "metadata": {
            "needs_background": "light"
          }
        }
      ]
    },
    {
      "cell_type": "markdown",
      "source": [
        "## Out of Distribution\n",
        "Earlier we hypothesised that the model would use the background colour to classify the images, learning a simple function of the pixels in the image (eg. what colour are the pixels that aren't blue?) is simpler than learning to detect the randomly placed shapes.\n",
        "\n",
        "We can quickly sense check this by classifying an image of a square on an orange background. If the model is relying on the background rather than the shape, this image will be classified as a circle."
      ],
      "metadata": {
        "id": "AE-qk2a8drxY"
      }
    },
    {
      "cell_type": "code",
      "source": [
        "from tensorflow import stack\n",
        "\n",
        "positions = shapes.get_positions(CANVAS_SIZE, 2, min_ratio=0.25, max_ratio=0.375)\n",
        "out_of_distribution_img = shapes.Square(positions[0], colour=shapes.ORANGE).create_canvas()\n",
        "shapes.Square(positions[1], colour=shapes.BLUE).add_to_image(out_of_distribution_img)\n",
        "\n",
        "predictions = shape_classifier.predict(stack([out_of_distribution_img / 255.0]))\n",
        "score = softmax(predictions)[0]\n",
        "class_name = fixed_background_classes[np.argmax(score)].name\n",
        "confidence = np.max(score)\n",
        "\n",
        "fig = plt.figure(figsize=(4., 4.))\n",
        "fig.suptitle(f'{100*confidence:.2f}% {class_name}')\n",
        "plt.imshow(out_of_distribution_img);"
      ],
      "metadata": {
        "colab": {
          "base_uri": "https://localhost:8080/",
          "height": 294
        },
        "id": "59cgVqKpeRfh",
        "outputId": "8c90d808-54f2-48a4-b627-5e173177ac86"
      },
      "execution_count": 8,
      "outputs": [
        {
          "output_type": "display_data",
          "data": {
            "text/plain": [
              "<Figure size 288x288 with 1 Axes>"
            ],
            "image/png": "[encoded data removed]"
          },
          "metadata": {
            "needs_background": "light"
          }
        }
      ]
    },
    {
      "cell_type": "markdown",
      "source": [
        "As expected, the model erroneously classifies this instance as a circle. We guessed here that changing the background would change the classification, but we can also do this systematically using LIME. \n",
        "\n",
        "To do this, we can use a `BinaryPerturber` subclass, where we generate perturbed instances with each of the features turned on or off. The features under consideration here are the background colour, and the presence (or lack) of shapes.\n",
        "\n",
        "While we can independendently place circles and squares, the background colours are not independent of one another (ie. the background cannot be both pink and blue at the same time). As we are interested in the background colour as a general concept, rather than the specific colour used, we will use an ordering on the colours such that if multiple colours are active, we only use one of them. This will result in some confounding effects, and the local model will not be accurate for changes in the background colour."
      ],
      "metadata": {
        "id": "LaZWFmPTeapv"
      }
    },
    {
      "cell_type": "code",
      "source": [
        "from slime.transform import BinaryPerturber\n",
        "from sklearn.metrics import pairwise_distances\n",
        "from slime.explain import Explainer\n",
        "\n",
        "class GenerativeShapePerturber(BinaryPerturber):\n",
        "  \"\"\"\n",
        "  Perturb a given shapes image based on an array of activated features.\n",
        "  \"\"\"\n",
        "  def __init__(self, positions, canvas_size=100):\n",
        "    self._canvas_position = positions[0]\n",
        "    self._square_position = positions[1]\n",
        "    self._circle_position = positions[2]\n",
        "    self._canvas_size = canvas_size\n",
        "\n",
        "  def perturb(self, enabled_features):\n",
        "    background_colour = shapes.PURPLE\n",
        "    if enabled_features[0]:\n",
        "      background_colour = shapes.ORANGE\n",
        "    elif enabled_features[1]:\n",
        "      background_colour = shapes.PINK\n",
        "    elif enabled_features[2]:\n",
        "      background_colour = shapes.SALMON\n",
        "\n",
        "    canvas = shapes.Square(self._canvas_position, colour=background_colour).create_canvas()\n",
        "    if enabled_features[3]:\n",
        "      shapes.Circle(self._circle_position, colour=shapes.BLUE).add_to_image(canvas)\n",
        "    if enabled_features[4]:\n",
        "      shapes.Square(self._square_position, colour=shapes.BLUE).add_to_image(canvas)\n",
        "\n",
        "    return canvas / 255.0\n",
        "\n",
        "  @property\n",
        "  def feature_count(self):\n",
        "    return 5\n",
        "\n",
        "def feature_to_readable(i):\n",
        "  return {\n",
        "      0: 'orange (not purple)', \n",
        "      1: 'pink (not orange or purple)', \n",
        "      2: 'salmon (not pink, orange, or purple)', \n",
        "      3: 'circle', \n",
        "      4: 'square', \n",
        "  }[i]\n",
        "\n",
        "perturber = GenerativeShapePerturber(positions)\n",
        "\n",
        "def metric(baseline, prediction):\n",
        "  return pairwise_distances(\n",
        "      [prediction],\n",
        "      baseline.reshape(1, -1),\n",
        "      metric='cosine'\n",
        "  ).ravel()\n",
        "\n",
        "explainer = Explainer(metric, kernel_width=2, random_state=5)\n",
        "explanation = explainer.explain_instance(perturber, shape_classifier.predict, top_labels=20, num_features=100, num_samples=1000)\n",
        "\n",
        "def print_explanation(feature_to_readable, explanation):\n",
        "  classes_to_explain = list(explanation.local_exp.keys())\n",
        "  explanations = [explanation.explain(c, num_features=1) for c in classes_to_explain]\n",
        "  \n",
        "  for i, c in enumerate(classes_to_explain):\n",
        "    figtext_lines = [\n",
        "      f'Explaining class {fixed_background_classes[i].name}',\n",
        "      f'Intercept is {explanation.intercept[c]:.2f}'\n",
        "    ]\n",
        "    for exp in explanation.local_exp[c]:\n",
        "      figtext_lines.append(f'Exp for {feature_to_readable(exp[0])} is {exp[1]:.2f}')\n",
        "    plt.figure(figsize=(4., 4.))\n",
        "    plt.imshow(explanations[i])\n",
        "    plt.figtext(0.5, -0.30, \n",
        "      '\\n'.join(figtext_lines), \n",
        "      wrap=True, horizontalalignment='center', fontsize=12\n",
        "    )\n",
        "\n",
        "print_explanation(feature_to_readable, explanation)"
      ],
      "metadata": {
        "colab": {
          "base_uri": "https://localhost:8080/",
          "height": 1000,
          "referenced_widgets": [
            "5c49d2948d1b49d3a7a0665a41bb71d5",
            "d49c90d2431a40259d8fdd7bdec57af6",
            "96e64d5ed8114c25a4a59927a5c26539",
            "be44451a75dc46d18f79065e852ad788",
            "d4d738da38294b8b93c2e8c5f61a978e",
            "79b4bbc2576a48e49d1f1baa653add99",
            "e3309a9e8b7a4036b9f8049999e76e4d",
            "aa4b9290a12947d7a7f95575612e395f",
            "8ff0501059664876a224857f9a3f888c",
            "c0bb4522fcbe4d56a44db485ad68cfe9",
            "d235248bff5447668d8b46f21b13cf11"
          ]
        },
        "id": "ywpSUFNjeeeQ",
        "outputId": "b230d466-c90c-4456-8709-bc34215b12ae"
      },
      "execution_count": 49,
      "outputs": [
        {
          "output_type": "display_data",
          "data": {
            "text/plain": [
              "  0%|          | 0/1000 [00:00<?, ?it/s]"
            ],
            "application/vnd.jupyter.widget-view+json": {
              "version_major": 2,
              "version_minor": 0,
              "model_id": "5c49d2948d1b49d3a7a0665a41bb71d5"
            }
          },
          "metadata": {}
        },
        {
          "output_type": "display_data",
          "data": {
            "text/plain": [
              "<Figure size 288x288 with 1 Axes>"
            ],
            "image/png": "[encoded data removed]"
          },
          "metadata": {
            "needs_background": "light"
          }
        },
        {
          "output_type": "display_data",
          "data": {
            "text/plain": [
              "<Figure size 288x288 with 1 Axes>"
            ],
            "image/png": "[encoded data removed]"
          },
          "metadata": {
            "needs_background": "light"
          }
        },
        {
          "output_type": "display_data",
          "data": {
            "text/plain": [
              "<Figure size 288x288 with 1 Axes>"
            ],
            "image/png": "[encoded data removed]"
          },
          "metadata": {
            "needs_background": "light"
          }
        },
        {
          "output_type": "display_data",
          "data": {
            "text/plain": [
              "<Figure size 288x288 with 1 Axes>"
            ],
            "image/png": "[encoded data removed]"
          },
          "metadata": {
            "needs_background": "light"
          }
        }
      ]
    },
    {
      "cell_type": "markdown",
      "source": [
        "The confounding between the background colours make those local model coefficients somewhat difficult to interpret (eg. one colour may be positive because it counteracts a strongly negative colour). In general, though, the impact of the background vs the shapes is clear from the size of the coefficients. In all explanations, the background colour dominates the presence of the shapes.\n",
        "\n",
        "We can also verify this by using the superpixel approach from the original LIME paper. By segmenting the image and removing those areas, we can see which part of the image the classifier is relying on most in its predictions."
      ],
      "metadata": {
        "id": "CHW9aZFxinZy"
      }
    },
    {
      "cell_type": "code",
      "source": [
        "from tensorflow import convert_to_tensor, double, float64\n",
        "from slime.transform import TransformerPerturber, SegmentTransformer\n",
        "from lime.wrappers.scikit_image import SegmentationAlgorithm\n",
        "\n",
        "def get_segment_transformers(img, dtype=float64, kernel_size=4, max_dist=200):\n",
        "  segmentation_fn = SegmentationAlgorithm('quickshift', kernel_size=kernel_size, max_dist=max_dist, ratio=0.2, random_seed=5)\n",
        "  segments = segmentation_fn(img)\n",
        "  segment_values = np.unique(segments)\n",
        "  transformers = []\n",
        "  for v in segment_values:\n",
        "    mask = 1 - (segments == v)\n",
        "    mask = mask[..., np.newaxis]\n",
        "    mask = convert_to_tensor(mask, dtype=dtype)\n",
        "    transformers.append(SegmentTransformer(mask))\n",
        "  img = convert_to_tensor(img, dtype=dtype)\n",
        "  tp = TransformerPerturber(img, transformers)\n",
        "  return tp\n",
        "\n",
        "img = convert_to_tensor(perturber.perturb([True, False, False, True, False]), dtype=double)\n",
        "tp = get_segment_transformers(img, dtype=double, kernel_size=2, max_dist=1)\n",
        "\n",
        "explainer = Explainer(metric, random_state=5) \n",
        "explanation = explainer.explain_instance(tp, shape_classifier.predict, top_labels=1, num_features=1, num_samples=1000)\n",
        "print_explanation(lambda x: f'Segment {x}', explanation)"
      ],
      "metadata": {
        "colab": {
          "base_uri": "https://localhost:8080/",
          "height": 408,
          "referenced_widgets": [
            "2516d5624fb04f0a96c03cadaaad6d69",
            "b198731ffae949798b41ba72f79544b1",
            "17d722d3a614438f9fedfb44ee553bd7",
            "f759eb173bcb45a0940ac2dd19738bba",
            "30061b2616164019bc1bdfe71d5cdfcc",
            "d58d554316564b0f831b5db251b595f8",
            "cd712eafd6514c2ab978e355318506db",
            "f2ae0d17160a419bb1eaf740afdcf37c",
            "15d811db942b407a99cd277c367b1d94",
            "19ecc3ada0ff49fda0150db02719ecd9",
            "52497d4d2de64368a0c7c57f98f2f527"
          ]
        },
        "id": "uXpJXd5yjAsn",
        "outputId": "6d1af1f7-6e75-4aae-f71c-a7dd1895c647"
      },
      "execution_count": 50,
      "outputs": [
        {
          "output_type": "display_data",
          "data": {
            "text/plain": [
              "  0%|          | 0/1000 [00:00<?, ?it/s]"
            ],
            "application/vnd.jupyter.widget-view+json": {
              "version_major": 2,
              "version_minor": 0,
              "model_id": "2516d5624fb04f0a96c03cadaaad6d69"
            }
          },
          "metadata": {}
        },
        {
          "output_type": "display_data",
          "data": {
            "text/plain": [
              "<Figure size 288x288 with 1 Axes>"
            ],
            "image/png": "[encoded data removed]"
          },
          "metadata": {
            "needs_background": "light"
          }
        }
      ]
    },
    {
      "cell_type": "markdown",
      "source": [
        "## Fixing the Model\n",
        "Now that we've established that the model erroneously uses the background colour of the image for classification, we can attempt to fix this by retraining the model uses a mix of background colours for each class. This means that the background colour cannot be used to determine the class.\n",
        "\n",
        "Using a generated dataset, it is very easy to acquire these data, which may not be the case with real-world datasets. See the sLIME paper for suggestions on how to circumvent this issue."
      ],
      "metadata": {
        "id": "Z43bRAurk83n"
      }
    },
    {
      "cell_type": "code",
      "source": [
        "get_random_colour = lambda: np.random.randint(0, 255, size=(3))\n",
        "\n",
        "random_background_classes = [\n",
        "  ShapesClass(0, 'none', [], get_random_colour),\n",
        "  ShapesClass(1, 'circle', [shapes.Circle], get_random_colour),\n",
        "  ShapesClass(2, 'square', [shapes.Square], get_random_colour),\n",
        "  ShapesClass(3, 'both', [shapes.Circle, shapes.Square], get_random_colour),\n",
        "]\n",
        "\n",
        "fixed_shape_classifier = get_shape_classifier(random_background_classes)\n",
        "show_class_predictions(random_background_classes, fixed_shape_classifier)"
      ],
      "metadata": {
        "colab": {
          "base_uri": "https://localhost:8080/",
          "height": 614
        },
        "id": "wm-n2Wsglzu3",
        "outputId": "9948fe73-a0a9-46e3-c822-29c806e05e48"
      },
      "execution_count": 54,
      "outputs": [
        {
          "output_type": "stream",
          "name": "stdout",
          "text": [
            "Epoch 1/3\n",
            "312/312 [==============================] - 15s 46ms/step - loss: 0.6687 - accuracy: 0.6647 - val_loss: 0.4227 - val_accuracy: 0.7611\n",
            "Epoch 2/3\n",
            "312/312 [==============================] - 14s 46ms/step - loss: 0.3774 - accuracy: 0.7958 - val_loss: 0.3371 - val_accuracy: 0.8125\n",
            "Epoch 3/3\n",
            "312/312 [==============================] - 14s 46ms/step - loss: 0.3200 - accuracy: 0.8429 - val_loss: 0.2317 - val_accuracy: 0.8942\n"
          ]
        },
        {
          "output_type": "display_data",
          "data": {
            "text/plain": [
              "<Figure size 576x864 with 8 Axes>"
            ],
            "image/png": "[encoded data removed]"
          },
          "metadata": {
            "needs_background": "light"
          }
        }
      ]
    },
    {
      "cell_type": "markdown",
      "source": [
        "These example suggest that the new model is performing correctly (if with considerably lower confidence than our previous model), but, as before, we can use sLIME to assess whether the shapes or background colour have more impact on the classification."
      ],
      "metadata": {
        "id": "gGHRvLF-mQrl"
      }
    },
    {
      "cell_type": "code",
      "source": [
        "explainer = Explainer(metric, kernel_width=2.0, random_state=5)\n",
        "explanation = explainer.explain_instance(perturber, fixed_shape_classifier.predict, top_labels=20, num_features=100, num_samples=1000)\n",
        "print_explanation(feature_to_readable, explanation)"
      ],
      "metadata": {
        "colab": {
          "base_uri": "https://localhost:8080/",
          "height": 1000,
          "referenced_widgets": [
            "310928740bed4e419e1610ff3d6c76f8",
            "267a2709f99d42a58e6bad53aeddc2fd",
            "8fbb16eabe7e495a8651cc0172418007",
            "dc5705b787ac4273bfe0f86b1a69c6ab",
            "d55d74cacbfd474a97e0d9c15ac4b780",
            "6f01c42a5183463ba268f06f3cdb0dd2",
            "976ef8ce28634e2e9dc65b36a5564594",
            "0e0e589792d34a11924473e17abd0183",
            "55076804bf3b4188bb4ab9af36ca6523",
            "c9469dfc6fe84219926d101b61717b49",
            "baf823575a56459799daec2febf43525"
          ]
        },
        "id": "A9JFgZY4m2GJ",
        "outputId": "7c1502bb-c1c2-4c5e-8090-33a2dc9ed23d"
      },
      "execution_count": 56,
      "outputs": [
        {
          "output_type": "display_data",
          "data": {
            "text/plain": [
              "  0%|          | 0/1000 [00:00<?, ?it/s]"
            ],
            "application/vnd.jupyter.widget-view+json": {
              "version_major": 2,
              "version_minor": 0,
              "model_id": "310928740bed4e419e1610ff3d6c76f8"
            }
          },
          "metadata": {}
        },
        {
          "output_type": "display_data",
          "data": {
            "text/plain": [
              "<Figure size 288x288 with 1 Axes>"
            ],
            "image/png": "[encoded data removed]"
          },
          "metadata": {
            "needs_background": "light"
          }
        },
        {
          "output_type": "display_data",
          "data": {
            "text/plain": [
              "<Figure size 288x288 with 1 Axes>"
            ],
            "image/png": "[encoded data removed]"
          },
          "metadata": {
            "needs_background": "light"
          }
        },
        {
          "output_type": "display_data",
          "data": {
            "text/plain": [
              "<Figure size 288x288 with 1 Axes>"
            ],
            "image/png": "[encoded data removed]"
          },
          "metadata": {
            "needs_background": "light"
          }
        },
        {
          "output_type": "display_data",
          "data": {
            "text/plain": [
              "<Figure size 288x288 with 1 Axes>"
            ],
            "image/png": "[encoded data removed]"
          },
          "metadata": {
            "needs_background": "light"
          }
        }
      ]
    },
    {
      "cell_type": "markdown",
      "source": [
        "Again, to double check our findings, we can use the superpixel method. However, here it is worth highlighting one of the key drawbacks to the superpixel approach: we don't know why the superpixel is relevant to the explanation. For example, it may be the colour of the superpixel, or it may be the shape of its adjacent edge to a shape."
      ],
      "metadata": {
        "id": "FSelaQsunA8S"
      }
    },
    {
      "cell_type": "code",
      "source": [
        "img = convert_to_tensor(perturber.perturb([True, False, False, True, False]), dtype=double)\n",
        "tp = get_segment_transformers(img, dtype=double, kernel_size=2, max_dist=1)\n",
        "\n",
        "explainer = Explainer(metric, random_state=5) \n",
        "explanation = explainer.explain_instance(tp, fixed_shape_classifier.predict, top_labels=1, num_features=1, num_samples=1000)\n",
        "print_explanation(lambda x: f'Segment {x}', explanation)"
      ],
      "metadata": {
        "colab": {
          "base_uri": "https://localhost:8080/",
          "height": 408,
          "referenced_widgets": [
            "ea481a294aad432da76b3fe71c7d4bbe",
            "1836b0f4b0b44e449d3b26a0818d3666",
            "215c6f6e282d4e2cad6b4e0a2b7e83af",
            "d81fb10f06534dd5b5cc70742ac2e23b",
            "c150322a7710449cb4e6f54ce830a433",
            "2ab722c2dc63440b8fd90ca2185c253f",
            "dc2a324001b7498f9e1d9b83c570266d",
            "d02084de4c6642a0b5a6ac060a9c5c7b",
            "1e922180a5ec4780ba75d92e2d696c3d",
            "a5fa8486c82f43e1b85b6258679c548f",
            "99e4d5f5b0f5457bbc5a24146fbf233f"
          ]
        },
        "id": "-cZ4WxIfm2Pj",
        "outputId": "f591bb89-53de-4dd8-8075-7e65a1755b69"
      },
      "execution_count": 60,
      "outputs": [
        {
          "output_type": "display_data",
          "data": {
            "text/plain": [
              "  0%|          | 0/1000 [00:00<?, ?it/s]"
            ],
            "application/vnd.jupyter.widget-view+json": {
              "version_major": 2,
              "version_minor": 0,
              "model_id": "ea481a294aad432da76b3fe71c7d4bbe"
            }
          },
          "metadata": {}
        },
        {
          "output_type": "display_data",
          "data": {
            "text/plain": [
              "<Figure size 288x288 with 1 Axes>"
            ],
            "image/png": "[encoded data removed]"
          },
          "metadata": {
            "needs_background": "light"
          }
        }
      ]
    }
  ]
}